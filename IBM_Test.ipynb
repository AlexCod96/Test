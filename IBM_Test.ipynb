{
 "cells": [
  {
   "cell_type": "markdown",
   "id": "a00a3271-349c-4282-aad3-790a27b4ae82",
   "metadata": {},
   "source": [
    "# Data Science Tools and Ecosystem\n"
   ]
  },
  {
   "cell_type": "markdown",
   "id": "7065d7c1-b43e-46ca-80f4-23117dfb898c",
   "metadata": {},
   "source": [
    "Exercice 3 : Here is a markdown cell serving as introduction for this assignment."
   ]
  },
  {
   "cell_type": "markdown",
   "id": "7713a095-1131-4407-8eee-f8371f37f521",
   "metadata": {},
   "source": [
    "Exercice 4 : Here is a list of data science language.\n",
    "1. Python\n",
    "2. R\n",
    "3. SQL"
   ]
  },
  {
   "cell_type": "markdown",
   "id": "8dfa0948-97aa-43ac-a4f9-8b6fdd5ae0f4",
   "metadata": {},
   "source": [
    "Exercice 5 : libraries used include:\n",
    "\n",
    "1. NumPy\n",
    "2. Matplotlib\n",
    "3. Pandas\n"
   ]
  },
  {
   "cell_type": "markdown",
   "id": "1b8b2b29-b21c-427d-bc7e-e2ca27129ac7",
   "metadata": {},
   "source": [
    "Exercice 6 : Here is a table markdown\n",
    "| Data Science             |\n",
    "|--------------------------|\n",
    "| Jupyter Notebook         |\n",
    "| RStudio                  |\n",
    "| Apache Hadoop            |"
   ]
  },
  {
   "cell_type": "code",
   "execution_count": 11,
   "id": "2f130d50-0b2e-4d09-a7d9-25336d2ede5e",
   "metadata": {},
   "outputs": [],
   "source": [
    "#Exercice 7 : As an example of  expressions in Python, \n",
    "#here is the defining of a variable as the sum of two integer.\n",
    "A = 1+2"
   ]
  },
  {
   "cell_type": "code",
   "execution_count": 8,
   "id": "657811cf-9110-46ff-a63d-cb0ec06f9dbb",
   "metadata": {},
   "outputs": [
    {
     "data": {
      "text/plain": [
       "11"
      ]
     },
     "execution_count": 8,
     "metadata": {},
     "output_type": "execute_result"
    }
   ],
   "source": [
    "# Exercice 8 :\n",
    "(5 * 2) + 1"
   ]
  },
  {
   "cell_type": "code",
   "execution_count": 9,
   "id": "37f9851c-29fb-4fa4-8679-da6eb08a7b0b",
   "metadata": {},
   "outputs": [
    {
     "data": {
      "text/plain": [
       "3.333"
      ]
     },
     "execution_count": 9,
     "metadata": {},
     "output_type": "execute_result"
    }
   ],
   "source": [
    "# Exercice Dividing by 60 will convert hours into minutes.\n",
    "round(200 / 60,3)"
   ]
  },
  {
   "cell_type": "markdown",
   "id": "bce78105-7de8-430c-871a-1866857b15b4",
   "metadata": {},
   "source": [
    "**Exercice 10 : Please find bellow a list.**\n",
    "\n",
    "- Exercise 2 - Create a markdown cell with the title of the notebook. (1 pt)\n",
    "- Exercise 3 - Create a markdown cell for an introduction. (1 pt)\n",
    "- Exercise 4 - Create a markdown cell to list data science languages. (3 pts)\n",
    "- Exercise 5 - Create a markdown cell to list data science libraries. (3 pts)\n",
    "- Exercise 6 - Create a markdown cell with a table of Data Science tools. (3 pts)\n",
    "- Exercise 7 - Create a markdown cell introducing arithmetic expression examples. (1 pt)\n",
    "- Exercise 8 - Create a code cell to multiply and add numbers. (2 pts)\n",
    "- Exercise 9 - Create a code cell to convert minutes to hours. (2 pts)\n",
    "- Exercise 10 -Insert a markdown cell to list Objectives. (3 pts)\n",
    "- Exercise 11 - Create a markdown cell to indicate the Author’s name. (2 pts)\n",
    "- Exercise 12 - Share your notebook through GitHub (3 pts)\n",
    "- Exercise 13 - Take a screenshot of the first page of the notebook. (1 pt)\n"
   ]
  },
  {
   "cell_type": "markdown",
   "id": "fc00044e-2985-492f-919e-fb237ed72bce",
   "metadata": {},
   "source": [
    "Exercise 11:\n",
    "##  Author : Alex Coderch\n"
   ]
  }
 ],
 "metadata": {
  "kernelspec": {
   "display_name": "Python 3 (ipykernel)",
   "language": "python",
   "name": "python3"
  },
  "language_info": {
   "codemirror_mode": {
    "name": "ipython",
    "version": 3
   },
   "file_extension": ".py",
   "mimetype": "text/x-python",
   "name": "python",
   "nbconvert_exporter": "python",
   "pygments_lexer": "ipython3",
   "version": "3.12.8"
  }
 },
 "nbformat": 4,
 "nbformat_minor": 5
}
